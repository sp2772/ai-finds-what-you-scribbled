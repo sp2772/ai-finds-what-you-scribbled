{
 "cells": [
  {
   "cell_type": "code",
   "execution_count": 1,
   "id": "77b567de-e7c6-4db1-943a-6713c9eb8aab",
   "metadata": {},
   "outputs": [
    {
     "name": "stdout",
     "output_type": "stream",
     "text": [
      "Looking in indexes: https://pypi.org/simple, https://pypi.ngc.nvidia.com\n",
      "Collecting quickdraw\n",
      "  Downloading quickdraw-1.0.0-py3-none-any.whl.metadata (1.3 kB)\n",
      "Requirement already satisfied: pillow in /mnt/c/Windows/system32/tf_env/lib/python3.12/site-packages (from quickdraw) (11.0.0)\n",
      "Requirement already satisfied: requests in /mnt/c/Windows/system32/tf_env/lib/python3.12/site-packages (from quickdraw) (2.32.3)\n",
      "Requirement already satisfied: charset-normalizer<4,>=2 in /mnt/c/Windows/system32/tf_env/lib/python3.12/site-packages (from requests->quickdraw) (3.4.0)\n",
      "Requirement already satisfied: idna<4,>=2.5 in /mnt/c/Windows/system32/tf_env/lib/python3.12/site-packages (from requests->quickdraw) (3.10)\n",
      "Requirement already satisfied: urllib3<3,>=1.21.1 in /mnt/c/Windows/system32/tf_env/lib/python3.12/site-packages (from requests->quickdraw) (2.2.3)\n",
      "Requirement already satisfied: certifi>=2017.4.17 in /mnt/c/Windows/system32/tf_env/lib/python3.12/site-packages (from requests->quickdraw) (2024.12.14)\n",
      "Downloading quickdraw-1.0.0-py3-none-any.whl (11 kB)\n",
      "Installing collected packages: quickdraw\n",
      "Successfully installed quickdraw-1.0.0\n"
     ]
    }
   ],
   "source": [
    "!pip install quickdraw"
   ]
  },
  {
   "cell_type": "code",
   "execution_count": 2,
   "id": "8483d820-54d2-4a47-a7d7-8910f57e617e",
   "metadata": {},
   "outputs": [
    {
     "name": "stdout",
     "output_type": "stream",
     "text": [
      "Downloading and saving 50 drawings for label: cat\n",
      "downloading cat from https://storage.googleapis.com/quickdraw_dataset/full/binary/cat.bin\n",
      "download complete\n",
      "loading cat drawings\n",
      "load complete\n",
      "Downloading and saving 50 drawings for label: dog\n",
      "downloading dog from https://storage.googleapis.com/quickdraw_dataset/full/binary/dog.bin\n",
      "download complete\n",
      "loading dog drawings\n",
      "load complete\n",
      "Downloading and saving 50 drawings for label: airplane\n",
      "downloading airplane from https://storage.googleapis.com/quickdraw_dataset/full/binary/airplane.bin\n",
      "download complete\n",
      "loading airplane drawings\n",
      "load complete\n"
     ]
    }
   ],
   "source": [
    "# Install the quickdraw package if not already installed\n",
    "# !pip install quickdraw\n",
    "\n",
    "import os\n",
    "from quickdraw import QuickDrawDataGroup\n",
    "\n",
    "def download_and_save_quickdraw(labels, max_drawings_per_label=100, base_dir=\"quickdraw_images\"):\n",
    "    if not os.path.exists(base_dir):\n",
    "        os.makedirs(base_dir)\n",
    "\n",
    "    for label in labels:\n",
    "        label_dir = os.path.join(base_dir, label)\n",
    "        os.makedirs(label_dir, exist_ok=True)\n",
    "\n",
    "        print(f\"Downloading and saving {max_drawings_per_label} drawings for label: {label}\")\n",
    "        qdg = QuickDrawDataGroup(label, max_drawings=max_drawings_per_label)\n",
    "        for i, drawing in enumerate(qdg.drawings):\n",
    "            image_path = os.path.join(label_dir, f\"{label}_{i+1}.png\")\n",
    "            drawing.image.save(image_path)\n",
    "\n",
    "# Example usage:\n",
    "labels_to_download = [\"cat\", \"dog\", \"airplane\"]  # Customize this list as needed\n",
    "max_drawings = 50  # Number of drawings per label\n",
    "\n",
    "download_and_save_quickdraw(labels_to_download, max_drawings_per_label=max_drawings)\n"
   ]
  },
  {
   "cell_type": "code",
   "execution_count": 7,
   "id": "eab448b6-4e90-4d37-af66-6cb0669c327d",
   "metadata": {},
   "outputs": [
    {
     "name": "stdout",
     "output_type": "stream",
     "text": [
      "\n",
      "Attempting to download up to 100000 drawings for label: aircraft carrier\n",
      "loading aircraft carrier drawings\n",
      "load complete\n",
      "  Failed to download drawings for aircraft carrier: object of type 'generator' has no len()\n",
      "\n",
      "Attempting to download up to 100000 drawings for label: airplane\n",
      "loading airplane drawings\n",
      "load complete\n",
      "  Failed to download drawings for airplane: object of type 'generator' has no len()\n",
      "\n",
      "Attempting to download up to 100000 drawings for label: alarm clock\n",
      "loading alarm clock drawings\n",
      "load complete\n",
      "  Failed to download drawings for alarm clock: object of type 'generator' has no len()\n",
      "\n",
      "Attempting to download up to 100000 drawings for label: ambulance\n",
      "loading ambulance drawings\n",
      "load complete\n"
     ]
    },
    {
     "ename": "KeyboardInterrupt",
     "evalue": "",
     "output_type": "error",
     "traceback": [
      "\u001b[0;31m---------------------------------------------------------------------------\u001b[0m",
      "\u001b[0;31mKeyboardInterrupt\u001b[0m                         Traceback (most recent call last)",
      "Cell \u001b[0;32mIn[7], line 41\u001b[0m\n\u001b[1;32m     38\u001b[0m MAX_DRAWINGS_PER_LABEL \u001b[38;5;241m=\u001b[39m \u001b[38;5;241m100000\u001b[39m      \u001b[38;5;66;03m# Maximum drawings per label\u001b[39;00m\n\u001b[1;32m     40\u001b[0m labels_to_download \u001b[38;5;241m=\u001b[39m read_labels_from_file(LABEL_FILE, NUM_LABELS_TO_DOWNLOAD)\n\u001b[0;32m---> 41\u001b[0m \u001b[43mdownload_and_save_quickdraw\u001b[49m\u001b[43m(\u001b[49m\u001b[43mlabels_to_download\u001b[49m\u001b[43m,\u001b[49m\u001b[43m \u001b[49m\u001b[43mmax_drawings_per_label\u001b[49m\u001b[38;5;241;43m=\u001b[39;49m\u001b[43mMAX_DRAWINGS_PER_LABEL\u001b[49m\u001b[43m)\u001b[49m\n",
      "Cell \u001b[0;32mIn[7], line 28\u001b[0m, in \u001b[0;36mdownload_and_save_quickdraw\u001b[0;34m(labels, max_drawings_per_label, base_dir)\u001b[0m\n\u001b[1;32m     24\u001b[0m     \u001b[38;5;28;01mfor\u001b[39;00m i, drawing \u001b[38;5;129;01min\u001b[39;00m \u001b[38;5;28menumerate\u001b[39m(qdg\u001b[38;5;241m.\u001b[39mdrawings):\n\u001b[1;32m     26\u001b[0m         image_path \u001b[38;5;241m=\u001b[39m os\u001b[38;5;241m.\u001b[39mpath\u001b[38;5;241m.\u001b[39mjoin(label_dir, \u001b[38;5;124mf\u001b[39m\u001b[38;5;124m\"\u001b[39m\u001b[38;5;132;01m{\u001b[39;00mlabel\u001b[38;5;132;01m}\u001b[39;00m\u001b[38;5;124m_\u001b[39m\u001b[38;5;132;01m{\u001b[39;00mi\u001b[38;5;241m+\u001b[39m\u001b[38;5;241m1\u001b[39m\u001b[38;5;132;01m}\u001b[39;00m\u001b[38;5;124m.png\u001b[39m\u001b[38;5;124m\"\u001b[39m)\n\u001b[0;32m---> 28\u001b[0m         \u001b[43mdrawing\u001b[49m\u001b[38;5;241;43m.\u001b[39;49m\u001b[43mimage\u001b[49m\u001b[38;5;241;43m.\u001b[39;49m\u001b[43msave\u001b[49m\u001b[43m(\u001b[49m\u001b[43mimage_path\u001b[49m\u001b[43m)\u001b[49m\n\u001b[1;32m     30\u001b[0m     \u001b[38;5;28mprint\u001b[39m(\u001b[38;5;124mf\u001b[39m\u001b[38;5;124m\"\u001b[39m\u001b[38;5;124m  Downloaded \u001b[39m\u001b[38;5;132;01m{\u001b[39;00m\u001b[38;5;28mlen\u001b[39m(qdg\u001b[38;5;241m.\u001b[39mdrawings)\u001b[38;5;132;01m}\u001b[39;00m\u001b[38;5;124m drawings for label: \u001b[39m\u001b[38;5;132;01m{\u001b[39;00mlabel\u001b[38;5;132;01m}\u001b[39;00m\u001b[38;5;124m\"\u001b[39m)\n\u001b[1;32m     31\u001b[0m \u001b[38;5;28;01mexcept\u001b[39;00m \u001b[38;5;167;01mException\u001b[39;00m \u001b[38;5;28;01mas\u001b[39;00m e:\n",
      "File \u001b[0;32m/mnt/c/Windows/system32/tf_env/lib/python3.12/site-packages/PIL/Image.py:2600\u001b[0m, in \u001b[0;36mImage.save\u001b[0;34m(self, fp, format, **params)\u001b[0m\n\u001b[1;32m   2598\u001b[0m         fp \u001b[38;5;241m=\u001b[39m builtins\u001b[38;5;241m.\u001b[39mopen(filename, \u001b[38;5;124m\"\u001b[39m\u001b[38;5;124mr+b\u001b[39m\u001b[38;5;124m\"\u001b[39m)\n\u001b[1;32m   2599\u001b[0m     \u001b[38;5;28;01melse\u001b[39;00m:\n\u001b[0;32m-> 2600\u001b[0m         fp \u001b[38;5;241m=\u001b[39m \u001b[43mbuiltins\u001b[49m\u001b[38;5;241;43m.\u001b[39;49m\u001b[43mopen\u001b[49m\u001b[43m(\u001b[49m\u001b[43mfilename\u001b[49m\u001b[43m,\u001b[49m\u001b[43m \u001b[49m\u001b[38;5;124;43m\"\u001b[39;49m\u001b[38;5;124;43mw+b\u001b[39;49m\u001b[38;5;124;43m\"\u001b[39;49m\u001b[43m)\u001b[49m\n\u001b[1;32m   2601\u001b[0m \u001b[38;5;28;01melse\u001b[39;00m:\n\u001b[1;32m   2602\u001b[0m     fp \u001b[38;5;241m=\u001b[39m cast(IO[\u001b[38;5;28mbytes\u001b[39m], fp)\n",
      "\u001b[0;31mKeyboardInterrupt\u001b[0m: "
     ]
    }
   ],
   "source": [
    "import os\n",
    "from quickdraw import QuickDrawDataGroup\n",
    "\n",
    "def read_labels_from_file(filepath, num_labels):\n",
    "    with open(filepath, 'r') as f:\n",
    "        lines = f.read().splitlines()\n",
    "    return lines[:num_labels]\n",
    "\n",
    "def download_and_save_quickdraw(labels, max_drawings_per_label=100, base_dir=\"quickdraw_images\"):\n",
    "    if not os.path.exists(base_dir):\n",
    "        os.makedirs(base_dir)\n",
    "    \n",
    "    for label in labels:\n",
    "        label_dir = os.path.join(base_dir, label)\n",
    "        os.makedirs(label_dir, exist_ok=True)\n",
    "        \n",
    "        print(f\"\\nAttempting to download up to {max_drawings_per_label} drawings for label: {label}\")\n",
    "        try:\n",
    "            qdg = QuickDrawDataGroup(label, max_drawings=max_drawings_per_label)\n",
    "            if not qdg.drawings:\n",
    "                print(f\"  No drawings found for label: {label}\")\n",
    "                continue\n",
    "\n",
    "            for i, drawing in enumerate(qdg.drawings):\n",
    "                \n",
    "                image_path = os.path.join(label_dir, f\"{label}_{i+1}.png\")\n",
    "                \n",
    "                drawing.image.save(image_path)\n",
    "\n",
    "            print(f\"  Downloaded {len(qdg.drawings)} drawings for label: {label}\")\n",
    "        except Exception as e:\n",
    "            print(f\"  Failed to download drawings for {label}: {e}\")\n",
    "        \n",
    "\n",
    "# === MAIN CONFIGURATION ===\n",
    "LABEL_FILE = \"labels.txt\"          # Path to your label file\n",
    "NUM_LABELS_TO_DOWNLOAD = 50       # Choose how many labels to use (e.g., first 50)\n",
    "MAX_DRAWINGS_PER_LABEL = 100000      # Maximum drawings per label\n",
    "\n",
    "labels_to_download = read_labels_from_file(LABEL_FILE, NUM_LABELS_TO_DOWNLOAD)\n",
    "download_and_save_quickdraw(labels_to_download, max_drawings_per_label=MAX_DRAWINGS_PER_LABEL)\n"
   ]
  },
  {
   "cell_type": "code",
   "execution_count": null,
   "id": "86c162ef-b4f7-446a-a335-20cd94da6b24",
   "metadata": {},
   "outputs": [],
   "source": []
  }
 ],
 "metadata": {
  "kernelspec": {
   "display_name": "Python 3 (ipykernel)",
   "language": "python",
   "name": "python3"
  },
  "language_info": {
   "codemirror_mode": {
    "name": "ipython",
    "version": 3
   },
   "file_extension": ".py",
   "mimetype": "text/x-python",
   "name": "python",
   "nbconvert_exporter": "python",
   "pygments_lexer": "ipython3",
   "version": "3.12.3"
  }
 },
 "nbformat": 4,
 "nbformat_minor": 5
}
